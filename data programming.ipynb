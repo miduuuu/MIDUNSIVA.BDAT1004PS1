{
 "cells": [
  {
   "cell_type": "markdown",
   "id": "00d8a072",
   "metadata": {},
   "source": [
    "# question 1"
   ]
  },
  {
   "cell_type": "code",
   "execution_count": 1,
   "id": "3b2b8c27",
   "metadata": {},
   "outputs": [
    {
     "name": "stdout",
     "output_type": "stream",
     "text": [
      "<class 'int'>\n",
      "<class 'float'>\n",
      "<class 'bool'>\n",
      "<class 'str'>\n",
      "<class 'int'>\n",
      "<class 'str'>\n",
      "<class 'str'>\n",
      "<class 'float'>\n",
      "<class 'int'>\n",
      "<class 'set'>\n",
      "<class 'bool'>\n",
      "<class 'float'>\n"
     ]
    }
   ],
   "source": [
    "print(type(5))\n",
    "print(type(5.0))\n",
    "print(type(5>1))\n",
    "print(type('5'))\n",
    "print(type(5*2))\n",
    "print(type('5'*2))\n",
    "print(type('5'+'2'))\n",
    "print(type(5/2))\n",
    "print(type(5 % 2))\n",
    "print(type({5, 2, 1}))\n",
    "print(type(5 == 3))\n",
    "print(type(3.141592653589793238462643))"
   ]
  },
  {
   "cell_type": "markdown",
   "id": "d0b742ae",
   "metadata": {},
   "source": [
    "# question 2"
   ]
  },
  {
   "cell_type": "code",
   "execution_count": 2,
   "id": "0b33da4f",
   "metadata": {},
   "outputs": [
    {
     "name": "stdout",
     "output_type": "stream",
     "text": [
      "34\n"
     ]
    }
   ],
   "source": [
    "a=\"Supercalifragilisticexpialidocious\"\n",
    "print(len(a))"
   ]
  },
  {
   "cell_type": "code",
   "execution_count": 5,
   "id": "4ac5a0af",
   "metadata": {},
   "outputs": [
    {
     "name": "stdout",
     "output_type": "stream",
     "text": [
      "Supercalifragilisticexpialidociouscontains ice\n"
     ]
    }
   ],
   "source": [
    "a=\"Supercalifragilisticexpialidocious\"\n",
    "b=\"ice\"\n",
    "if (a.find(b) > 0):\n",
    "    print(a+  \"contains ice\")\n",
    "else:\n",
    "    print(a+  \"doesnt contains ice\")"
   ]
  },
  {
   "cell_type": "code",
   "execution_count": 8,
   "id": "d43fc4b5",
   "metadata": {},
   "outputs": [
    {
     "name": "stdout",
     "output_type": "stream",
     "text": [
      "Supercalifragilisticexpialidocious  Bababadalgharaghtakamminarronnkonnis the longest words with 34letters\n"
     ]
    }
   ],
   "source": [
    "a=\"Supercalifragilisticexpialidocious\"\n",
    "b=\"Honorificabilitudinitatibus\"\n",
    "c=\"Bababadalgharaghtakamminarronnkonn\"\n",
    "d=(len(a),len(b),len(c))\n",
    "e=max(d)\n",
    "if (e==len(a)):\n",
    "    f=a\n",
    "else:\n",
    "    f=\"\"\n",
    "if (e==len(b)):\n",
    "    g=b\n",
    "else:\n",
    "    g=\"\"\n",
    "if (e==len(c)):\n",
    "    h=c\n",
    "else:\n",
    "    h=\"\"\n",
    "print(f,g,h+ \"is the longest words with \" + str(e) + \"letters\")\n",
    "    "
   ]
  },
  {
   "cell_type": "code",
   "execution_count": 6,
   "id": "1d4e865d",
   "metadata": {},
   "outputs": [
    {
     "name": "stdout",
     "output_type": "stream",
     "text": [
      "Bartok comes first in the dictionary\n"
     ]
    }
   ],
   "source": [
    "a=(\"Berlioz\", \"Borodin\", \"Brian\", \n",
    "\"Bartok\", \"Bellini\", \"Buxtehude\", \"Bernstein\")\n",
    "print(min(a)+ \" comes first in the dictionary\")\n"
   ]
  },
  {
   "cell_type": "markdown",
   "id": "232b6386",
   "metadata": {},
   "source": [
    "# question 3"
   ]
  },
  {
   "cell_type": "code",
   "execution_count": 30,
   "id": "6a2ec6c5",
   "metadata": {},
   "outputs": [
    {
     "name": "stdout",
     "output_type": "stream",
     "text": [
      "ENTER THE VALUE OF SIDE A2\n",
      "ENTER THE VALUE OF SIDE B2\n",
      "ENTER THE VALUE OF SIDE C2\n",
      "TRIANGLEAREA(2,2,2) is1.7320508075688772\n"
     ]
    }
   ],
   "source": [
    "import math\n",
    "A=int(input(\"ENTER THE VALUE OF SIDE A\"))\n",
    "B=int(input(\"ENTER THE VALUE OF SIDE B\"))\n",
    "C=int(input(\"ENTER THE VALUE OF SIDE C\"))\n",
    "S=(A+B+C)/2\n",
    "TRIANGLEAREA=math.sqrt(S*(S-A)*(S-B)*(S-C))\n",
    "print(\"TRIANGLEAREA(\"+ str(A) + \",\" + str(B) + \",\" + str(C) + \") is\" + str(TRIANGLEAREA))"
   ]
  },
  {
   "cell_type": "markdown",
   "id": "5fb4506a",
   "metadata": {},
   "source": [
    "# question 4"
   ]
  },
  {
   "cell_type": "code",
   "execution_count": 3,
   "id": "dc884f78",
   "metadata": {},
   "outputs": [
    {
     "name": "stdout",
     "output_type": "stream",
     "text": [
      "The even elements are: 42 56 32 \n",
      "The odd elements are: 25 47 \n"
     ]
    }
   ],
   "source": [
    "def oddEve(n):\n",
    "    a=\"The even elements are: \"\n",
    "    b=\"The odd elements are: \"\n",
    "    for i in n:\n",
    "        if i%2==0:\n",
    "            a+=str(i) +\" \"\n",
    "        else:\n",
    "            b+=str(i) +\" \"\n",
    "    return a + \"\\n\" + b\n",
    "print(oddEve([25,47,42,56,32]))"
   ]
  },
  {
   "cell_type": "markdown",
   "id": "bdb7109c",
   "metadata": {},
   "source": [
    "# question 5"
   ]
  },
  {
   "cell_type": "code",
   "execution_count": 3,
   "id": "b9ec0c1f",
   "metadata": {},
   "outputs": [
    {
     "name": "stdout",
     "output_type": "stream",
     "text": [
      "False\n"
     ]
    }
   ],
   "source": [
    "def inside(x,y,x1,y1,x2,y2):\n",
    "    if (x > x1 and x < x2 and\n",
    "        y > y1 and y < y2) :\n",
    "        return True\n",
    "    else :\n",
    "        return False\n",
    "print(inside(-1,-1,0,0,2,3))"
   ]
  },
  {
   "cell_type": "code",
   "execution_count": 2,
   "id": "93b18d6e",
   "metadata": {},
   "outputs": [
    {
     "name": "stdout",
     "output_type": "stream",
     "text": [
      "True\n"
     ]
    }
   ],
   "source": [
    "def inside(x,y,x1,y1,x2,y2):\n",
    "    if (x > x1 and x < x2 and\n",
    "        y > y1 and y < y2) :\n",
    "        return True\n",
    "    else :\n",
    "        return False\n",
    "print(inside(1,1,0.5,0.2,1.1,2))"
   ]
  },
  {
   "cell_type": "markdown",
   "id": "5c05d5e2",
   "metadata": {},
   "source": [
    "# question6"
   ]
  },
  {
   "cell_type": "code",
   "execution_count": 1,
   "id": "c2e1a6a3",
   "metadata": {},
   "outputs": [
    {
     "name": "stdout",
     "output_type": "stream",
     "text": [
      "ENTER A WORD\n",
      "lion\n",
      "ionlay\n"
     ]
    }
   ],
   "source": [
    "vowels=['a','e','i','o','u']\n",
    "print(\"ENTER A WORD\")\n",
    "a=input()\n",
    "def pig(n):\n",
    "    a=n.lower()\n",
    "    b=n.lower()\n",
    "    n=n.lower()\n",
    "    for i in vowels:\n",
    "        if n[0]==i:\n",
    "            a=a+\"way\"\n",
    "            return a\n",
    "            \n",
    "    b=list(n)\n",
    "    y=b[1:]\n",
    "    z=b[:1]\n",
    "    k=[\"a\",\"y\"]\n",
    "    p=\"\".join(y+z+k)\n",
    "    return p\n",
    "            \n",
    "print(pig(\"lion\"))"
   ]
  },
  {
   "cell_type": "markdown",
   "id": "b0205f53",
   "metadata": {},
   "source": [
    "# question 7"
   ]
  },
  {
   "cell_type": "code",
   "execution_count": 7,
   "id": "6acc537a",
   "metadata": {},
   "outputs": [
    {
     "name": "stdout",
     "output_type": "stream",
     "text": [
      "There are 15 patients with BloodType A\n",
      "There are 1 patients with BloodType B\n",
      "There are 13 patients with BloodType AB\n",
      "There are 15 patients with  BloodType O\n",
      "There are 0 patients with BloodType OO\n"
     ]
    }
   ],
   "source": [
    "grps=\"\"\n",
    "with open(\"bloodtype.txt\",'r') as f:\n",
    " grps = f.readline().split()\n",
    "A=0\n",
    "B=0\n",
    "AB=0\n",
    "O=0\n",
    "OO=0\n",
    "count = 0\n",
    "for btyp in grps:\n",
    "    if btyp == 'A':\n",
    "        A+=1\n",
    "    elif btyp =='B':\n",
    "       B+=1\n",
    "    elif btyp =='AB':\n",
    "       AB+=1\n",
    "    elif btyp =='O':\n",
    "       O+=1\n",
    "    elif btyp =='OO':\n",
    "       OO+=1   \n",
    "    else :\n",
    "        count +=1\n",
    "\n",
    "print('There are ' +str(A) +\" patients with BloodType A\")\n",
    "print('There are ' +str(B) +\" patients with BloodType B\")\n",
    "print('There are ' +str(AB) +\" patients with BloodType AB\")\n",
    "print('There are ' +str(O) +\" patients with  BloodType O\")\n",
    "print('There are ' +str(OO) +\" patients with BloodType OO\")"
   ]
  },
  {
   "cell_type": "markdown",
   "id": "11db07ed",
   "metadata": {},
   "source": [
    "# question 8"
   ]
  },
  {
   "cell_type": "code",
   "execution_count": 2,
   "id": "682a43a3",
   "metadata": {},
   "outputs": [],
   "source": [
    "def curconv(currency,amount):\n",
    "    file = open(\"currencies.txt\",)\n",
    "    file= file.readlines()\n",
    "    file.close()\n",
    "    for file in file1 :\n",
    "        grps = file.split()\n",
    "        if currency == group[0]:\n",
    "            currency = float(group[1])\n",
    "            valueconv = amount * currency\n",
    "    print(valueconomy) \n",
    "    curconv(\"EUR\",100)\n",
    "    curconv(\"jpy\",100)            "
   ]
  },
  {
   "cell_type": "markdown",
   "id": "26e4157a",
   "metadata": {},
   "source": [
    "# question 9"
   ]
  },
  {
   "cell_type": "code",
   "execution_count": 31,
   "id": "696c629b",
   "metadata": {
    "scrolled": true
   },
   "outputs": [
    {
     "ename": "TypeError",
     "evalue": "unsupported operand type(s) for +: 'int' and 'str'",
     "output_type": "error",
     "traceback": [
      "\u001b[1;31m---------------------------------------------------------------------------\u001b[0m",
      "\u001b[1;31mTypeError\u001b[0m                                 Traceback (most recent call last)",
      "Input \u001b[1;32mIn [31]\u001b[0m, in \u001b[0;36m<cell line: 1>\u001b[1;34m()\u001b[0m\n\u001b[1;32m----> 1\u001b[0m a\u001b[38;5;241m=\u001b[39m(\u001b[38;5;241;43m6\u001b[39;49m\u001b[38;5;241;43m+\u001b[39;49m\u001b[38;5;124;43m\"\u001b[39;49m\u001b[38;5;124;43ma\u001b[39;49m\u001b[38;5;124;43m\"\u001b[39;49m)\n\u001b[0;32m      2\u001b[0m \u001b[38;5;28mprint\u001b[39m(a)\n",
      "\u001b[1;31mTypeError\u001b[0m: unsupported operand type(s) for +: 'int' and 'str'"
     ]
    }
   ],
   "source": [
    "a=(6+\"a\")\n",
    "print(a)\n",
    "\n"
   ]
  },
  {
   "cell_type": "code",
   "execution_count": 27,
   "id": "9facfbd3",
   "metadata": {},
   "outputs": [
    {
     "ename": "IndexError",
     "evalue": "tuple index out of range",
     "output_type": "error",
     "traceback": [
      "\u001b[1;31m---------------------------------------------------------------------------\u001b[0m",
      "\u001b[1;31mIndexError\u001b[0m                                Traceback (most recent call last)",
      "Input \u001b[1;32mIn [27]\u001b[0m, in \u001b[0;36m<cell line: 2>\u001b[1;34m()\u001b[0m\n\u001b[0;32m      1\u001b[0m a\u001b[38;5;241m=\u001b[39m(\u001b[38;5;124m\"\u001b[39m\u001b[38;5;124ma\u001b[39m\u001b[38;5;124m\"\u001b[39m,\u001b[38;5;124m\"\u001b[39m\u001b[38;5;124mb\u001b[39m\u001b[38;5;124m\"\u001b[39m,\u001b[38;5;124m\"\u001b[39m\u001b[38;5;124mc\u001b[39m\u001b[38;5;124m\"\u001b[39m,\u001b[38;5;124m\"\u001b[39m\u001b[38;5;124md\u001b[39m\u001b[38;5;124m\"\u001b[39m,\u001b[38;5;124m\"\u001b[39m\u001b[38;5;124me\u001b[39m\u001b[38;5;124m\"\u001b[39m,\u001b[38;5;124m\"\u001b[39m\u001b[38;5;124mf\u001b[39m\u001b[38;5;124m\"\u001b[39m,\u001b[38;5;124m\"\u001b[39m\u001b[38;5;124mg\u001b[39m\u001b[38;5;124m\"\u001b[39m,\u001b[38;5;124m\"\u001b[39m\u001b[38;5;124mh\u001b[39m\u001b[38;5;124m\"\u001b[39m,\u001b[38;5;124m\"\u001b[39m\u001b[38;5;124mi\u001b[39m\u001b[38;5;124m\"\u001b[39m,\u001b[38;5;124m\"\u001b[39m\u001b[38;5;124mj\u001b[39m\u001b[38;5;124m\"\u001b[39m)\n\u001b[1;32m----> 2\u001b[0m \u001b[38;5;28mprint\u001b[39m(\u001b[43ma\u001b[49m\u001b[43m[\u001b[49m\u001b[38;5;241;43m12\u001b[39;49m\u001b[43m]\u001b[49m)\n",
      "\u001b[1;31mIndexError\u001b[0m: tuple index out of range"
     ]
    }
   ],
   "source": [
    "a=(\"a\",\"b\",\"c\",\"d\",\"e\",\"f\",\"g\",\"h\",\"i\",\"j\")\n",
    "print(a[12])\n",
    "\n",
    "                                \n"
   ]
  },
  {
   "cell_type": "code",
   "execution_count": 21,
   "id": "a0123c42",
   "metadata": {},
   "outputs": [
    {
     "ename": "ValueError",
     "evalue": "math domain error",
     "output_type": "error",
     "traceback": [
      "\u001b[1;31m---------------------------------------------------------------------------\u001b[0m",
      "\u001b[1;31mValueError\u001b[0m                                Traceback (most recent call last)",
      "Input \u001b[1;32mIn [21]\u001b[0m, in \u001b[0;36m<cell line: 2>\u001b[1;34m()\u001b[0m\n\u001b[0;32m      1\u001b[0m \u001b[38;5;28;01mimport\u001b[39;00m \u001b[38;5;21;01mmath\u001b[39;00m\n\u001b[1;32m----> 2\u001b[0m \u001b[38;5;28mprint\u001b[39m(\u001b[43mmath\u001b[49m\u001b[38;5;241;43m.\u001b[39;49m\u001b[43msqrt\u001b[49m\u001b[43m(\u001b[49m\u001b[38;5;241;43m-\u001b[39;49m\u001b[38;5;241;43m1.0\u001b[39;49m\u001b[43m)\u001b[49m)\n",
      "\u001b[1;31mValueError\u001b[0m: math domain error"
     ]
    }
   ],
   "source": [
    "import math\n",
    "print(math.sqrt(-1.0))"
   ]
  },
  {
   "cell_type": "code",
   "execution_count": 22,
   "id": "00c2ef55",
   "metadata": {},
   "outputs": [
    {
     "ename": "NameError",
     "evalue": "name 'x' is not defined",
     "output_type": "error",
     "traceback": [
      "\u001b[1;31m---------------------------------------------------------------------------\u001b[0m",
      "\u001b[1;31mNameError\u001b[0m                                 Traceback (most recent call last)",
      "Input \u001b[1;32mIn [22]\u001b[0m, in \u001b[0;36m<cell line: 1>\u001b[1;34m()\u001b[0m\n\u001b[1;32m----> 1\u001b[0m \u001b[38;5;28mprint\u001b[39m(\u001b[43mx\u001b[49m)\n",
      "\u001b[1;31mNameError\u001b[0m: name 'x' is not defined"
     ]
    }
   ],
   "source": [
    "print(x)"
   ]
  },
  {
   "cell_type": "code",
   "execution_count": 33,
   "id": "76d48b93",
   "metadata": {},
   "outputs": [
    {
     "ename": "FileNotFoundError",
     "evalue": "[Errno 2] No such file or directory: 'priorfile.txt'",
     "output_type": "error",
     "traceback": [
      "\u001b[1;31m---------------------------------------------------------------------------\u001b[0m",
      "\u001b[1;31mFileNotFoundError\u001b[0m                         Traceback (most recent call last)",
      "Input \u001b[1;32mIn [33]\u001b[0m, in \u001b[0;36m<cell line: 1>\u001b[1;34m()\u001b[0m\n\u001b[1;32m----> 1\u001b[0m \u001b[38;5;28;43mopen\u001b[39;49m\u001b[43m(\u001b[49m\u001b[38;5;124;43m\"\u001b[39;49m\u001b[38;5;124;43mpriorfile.txt\u001b[39;49m\u001b[38;5;124;43m\"\u001b[39;49m\u001b[43m,\u001b[49m\u001b[38;5;124;43m'\u001b[39;49m\u001b[38;5;124;43mr\u001b[39;49m\u001b[38;5;124;43m'\u001b[39;49m\u001b[43m)\u001b[49m\n",
      "\u001b[1;31mFileNotFoundError\u001b[0m: [Errno 2] No such file or directory: 'priorfile.txt'"
     ]
    }
   ],
   "source": [
    " open(\"priorfile.txt\",'r') "
   ]
  },
  {
   "cell_type": "markdown",
   "id": "68a79896",
   "metadata": {},
   "source": [
    "# question10"
   ]
  },
  {
   "cell_type": "code",
   "execution_count": 1,
   "id": "4eee5902",
   "metadata": {},
   "outputs": [
    {
     "name": "stdout",
     "output_type": "stream",
     "text": [
      "['1', '0', '0', '0', '1', '0', '0', '0', '0', '0', '0', '1', '0', '0', '0', '2', '0', '0', '0', '0', '0', '0', '0', '0', '0', '0']\n"
     ]
    }
   ],
   "source": [
    "def frequencies(string):\n",
    "    arr=[]\n",
    "    alphabets=\"abcdefghijklmnopqrstuvwxyz\"\n",
    "    for i in alphabets:\n",
    "        counts=(string.count(i))\n",
    "        arr+=str(counts)\n",
    "    return arr\n",
    "    \n",
    "print(frequencies('apple'))"
   ]
  }
 ],
 "metadata": {
  "kernelspec": {
   "display_name": "Python 3 (ipykernel)",
   "language": "python",
   "name": "python3"
  },
  "language_info": {
   "codemirror_mode": {
    "name": "ipython",
    "version": 3
   },
   "file_extension": ".py",
   "mimetype": "text/x-python",
   "name": "python",
   "nbconvert_exporter": "python",
   "pygments_lexer": "ipython3",
   "version": "3.9.12"
  }
 },
 "nbformat": 4,
 "nbformat_minor": 5
}
